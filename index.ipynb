{
 "cells": [
  {
   "cell_type": "markdown",
   "metadata": {},
   "source": [
    "# Gender Classification using Convolutional Neural Networks"
   ]
  },
  {
   "cell_type": "markdown",
   "metadata": {},
   "source": [
    "**Project Goal**: We are creating a Convolutional Neural Network (CNN) model to classify images based on gender. The code uses a dataset of images in different difficulty levels ('Easy', 'Medium', and 'Hard') for training."
   ]
  },
  {
   "cell_type": "markdown",
   "metadata": {},
   "source": [
    "## Plotly Graph\n",
    "- Create an interactive plotly graph of the model's training history\n",
    "- Plot the model's loss and accuracy over the epochs during training and validation"
   ]
  },
  {
   "cell_type": "code",
   "execution_count": null,
   "metadata": {},
   "outputs": [],
   "source": [
    "import plotly.graph_objects as go\n",
    "\n",
    "fig = go.Figure()\n",
    "\n",
    "fig.add_trace(go.Scatter(x=list(range(1, len(history.history['accuracy'])+1)), \n",
    "                         y=history.history['accuracy'],\n",
    "                         mode='lines+markers',\n",
    "                         name='Train Accuracy'))\n",
    "\n",
    "fig.add_trace(go.Scatter(x=list(range(1, len(history.history['val_accuracy'])+1)), \n",
    "                         y=history.history['val_accuracy'],\n",
    "                         mode='lines+markers',\n",
    "                         name='Validation Accuracy'))\n",
    "\n",
    "fig.add_trace(go.Scatter(x=list(range(1, len(history.history['loss'])+1)), \n",
    "                         y=history.history['loss'],\n",
    "                         mode='lines+markers',\n",
    "                         name='Train Loss'))\n",
    "\n",
    "fig.add_trace(go.Scatter(x=list(range(1, len(history.history['val_loss'])+1)), \n",
    "                         y=history.history['val_loss'],\n",
    "                         mode='lines+markers',\n",
    "                         name='Validation Loss'))\n",
    "\n",
    "fig.update_layout(title='Training and Validation Loss/Accuracy',\n",
    "                   xaxis=dict(title='Epochs'),\n",
    "                   yaxis=dict(title='Value'))\n",
    "\n",
    "fig.show()\n"
   ]
  },
  {
   "cell_type": "markdown",
   "metadata": {},
   "source": [
    "**Matplotlib**\n",
    "- Create a <span style='color:blue'>**confusion matrix**</span> using Matplotlib\n",
    "- The confusion matrix gives you a more detailed look at how your model performs, as it shows how often an instance of an actual class was predicted as another class."
   ]
  },
  {
   "cell_type": "code",
   "execution_count": null,
   "metadata": {},
   "outputs": [],
   "source": [
    "# Predict classes for test data\n",
    "from sklearn.metrics import confusion_matrix\n",
    "import seaborn as sns\n",
    "\n",
    "predictions = model.predict_classes(test_images)\n",
    "conf_mat = confusion_matrix(test_labels, predictions)\n",
    "\n",
    "# Visualization\n",
    "plt.figure(figsize = (10,7))\n",
    "sns.heatmap(conf_mat, annot=True, fmt='d', cmap='Blues')\n",
    "plt.title('Confusion Matrix')\n",
    "plt.xlabel('Predicted')\n",
    "plt.ylabel('Actual')\n",
    "plt.show()"
   ]
  },
  {
   "cell_type": "markdown",
   "metadata": {},
   "source": [
    "## Markdown Table\n",
    "- On model's architecture\n",
    "- *Need to update the Output Shape and Param # fields based on model's summary*"
   ]
  },
  {
   "cell_type": "code",
   "execution_count": null,
   "metadata": {},
   "outputs": [],
   "source": [
    "model.summary()"
   ]
  },
  {
   "cell_type": "markdown",
   "metadata": {},
   "source": [
    "| Layer (type) | Output Shape | Param # |\n",
    "| --- | --- | --- |\n",
    "| conv2d (Conv2D) | (None, 96, 96, 32) | 320 |\n",
    "| max_pooling2d (MaxPooling2D) | (None, 48, 48, 32) | 0 |\n",
    "| conv2d_1 (Conv2D) | (None, 48, 48, 32) | 9248 |\n",
    "| max_pooling2d_1 (MaxPooling2D) | (None, 24, 24, 32) | 0 |\n",
    "| flatten (Flatten) | (None, 18432) | 0 |\n",
    "| dense (Dense) | (None, 128) | 2359424 |\n",
    "| dense_1 (Dense) | (None, 2) | 258 |"
   ]
  },
  {
   "cell_type": "markdown",
   "metadata": {},
   "source": [
    "## Markdown equation using Latex\n",
    "- LaTeX equation for the categorical cross-entropy loss function\n",
    "\n",
    "The model's loss function is the <span style='color:blue'>**categorical cross-entropy**</span>, which for two classes is computed as:\n",
    "\n",
    "$$\n",
    "-\\sum_{i=1}^{m} y_i \\log(\\hat{y}_i)\n",
    "$$>\n",
    "\n",
    "Where:\n",
    "- $y_i$ is the true label\n",
    "- $\\hat{y}_i$ is the predicted label\n",
    "- $m$ is the number of instances\n"
   ]
  },
  {
   "cell_type": "markdown",
   "metadata": {},
   "source": [
    "## Image"
   ]
  },
  {
   "cell_type": "code",
   "execution_count": null,
   "metadata": {},
   "outputs": [],
   "source": [
    "url = \"https://upload.wikimedia.org/wikipedia/commons/b/bf/Fingerprint_picture.svg\"\n",
    "![Fingerprint](url)"
   ]
  }
 ],
 "metadata": {
  "kernelspec": {
   "display_name": "base",
   "language": "python",
   "name": "python3"
  },
  "language_info": {
   "codemirror_mode": {
    "name": "ipython",
    "version": 3
   },
   "file_extension": ".py",
   "mimetype": "text/x-python",
   "name": "python",
   "nbconvert_exporter": "python",
   "pygments_lexer": "ipython3",
   "version": "3.10.9"
  },
  "orig_nbformat": 4
 },
 "nbformat": 4,
 "nbformat_minor": 2
}
